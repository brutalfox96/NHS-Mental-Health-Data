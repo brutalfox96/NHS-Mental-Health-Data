{
 "cells": [
  {
   "cell_type": "markdown",
   "metadata": {},
   "source": [
    "# NHS Mental Health Data Analysis\n",
    "\n",
    "The following project analyses 5 data sets containing information about mental health therapy provision in England through the NHS. The data sets cover April - August 2014 and were retreived from: https://data.england.nhs.uk/organization/hscic.\n",
    "<br>\n",
    "The analysis aimed to investigate the following question: \n",
    "<br>\n",
    "> **What proportion of people seeking mental health treatment were provided with it from April - August and how did this vary in different regions of England?**  \n",
    "\n",
    "I aimed to do this by comparing the number of people recorded as being in contact with NHS services with the number assigned __[CPA](https://www.nhs.uk/conditions/social-care-and-support-guide/help-from-social-services-and-charities/care-for-people-with-mental-health-problems-care-programme-approach/)__ (care programme approach) support. These figures would be compared for each __[CCG](https://www.england.nhs.uk/ccgs/)__ (clinical commissioning group), which were grouped into the different __[regions of England](https://en.wikipedia.org/wiki/Regions_of_England)__, to compare care provision in different areas of England."
   ]
  },
  {
   "cell_type": "markdown",
   "metadata": {},
   "source": [
    "## Section 1: Load Libraries and Datasets\n",
    "Libraries to be used for data analysis were: pandas, matplotlib and numpy. The requests and BeautifulSoup libraries would be used later for scraping the regions of England from Wikipedia. The OS library was used to load CSV files from the file folder.  \n",
    "I downloaded the data sets from the __[link](https://data.england.nhs.uk/organization/hscic)__ provided above.\n",
    "### 1.1: Libraries"
   ]
  },
  {
   "cell_type": "code",
   "execution_count": 106,
   "metadata": {},
   "outputs": [],
   "source": [
    "from matplotlib import pyplot as plt\n",
    "import pandas as pd\n",
    "import numpy as np\n",
    "import os\n",
    "import requests\n",
    "from bs4 import BeautifulSoup"
   ]
  },
  {
   "cell_type": "markdown",
   "metadata": {},
   "source": [
    "### 1.2: Load CSVs\n",
    "The functions below generate dataframes for each month's mental health dataset. The final function generates a sub-dataframe for each of these, which retains only the 'CCG', 'People in contact with services' and 'People on CPA' columns.\n",
    "<br>\n",
    "*Note: all dataframes are stored within dictionaries throughout this project*."
   ]
  },
  {
   "cell_type": "code",
   "execution_count": 107,
   "metadata": {
    "code_folding": [
     0,
     10,
     16
    ]
   },
   "outputs": [],
   "source": [
    "def df_month_gen(month):\n",
    "    os.chdir('/Users/Patrick/Documents/Python/PythonScripts/Pandas/MentalHealth')\n",
    "    file_names = os.listdir()\n",
    "    for file in file_names:\n",
    "        file_words = file.split('-')\n",
    "        if month in file_words:\n",
    "            read_file = file\n",
    "    \n",
    "    return pd.read_csv(read_file,na_values=['*','-'])\n",
    "\n",
    "def df_generator(month_list):\n",
    "    dfs = {}\n",
    "    for month in month_list:\n",
    "        dfs[month+'_df'] = df_month_gen(month)\n",
    "    return dfs\n",
    "\n",
    "def df_sub_generator(df_dict):\n",
    "    df_subs = {}\n",
    "    cols = ['CCG','People in contact with services','People on CPA']\n",
    "    may_cols = ['CCG Name','People in contact with services','People on CPA']\n",
    "    for df_key in df_dict:\n",
    "        sub_key = df_key[:-2] + 'sub'\n",
    "        if df_key == 'may_df':\n",
    "            df_subs[sub_key] = df_dict[df_key][may_cols]\n",
    "        else:\n",
    "            df_subs[sub_key] = df_dict[df_key][cols]\n",
    "    return df_subs"
   ]
  },
  {
   "cell_type": "code",
   "execution_count": 108,
   "metadata": {},
   "outputs": [],
   "source": [
    "# get dataframes for the apr, may, jun, jul and aug csvs\n",
    "month_dfs = df_generator(['apr','may','jun','july','aug'])\n",
    "# for each df, make a sub-frame containing only people in contact, ccg and people on cpa plans\n",
    "month_subs = df_sub_generator(month_dfs)"
   ]
  },
  {
   "cell_type": "markdown",
   "metadata": {},
   "source": [
    "## Section 2: Data Cleaning\n",
    "The main cleaning tasks are:\n",
    "- Remove NaNs\n",
    "- Remove duplicate CCG entries\n",
    "- Rename columns\n",
    "- Abbreviate the CCG names  \n",
    "\n",
    "Note: the default NaN entry of the original datasets was a hyphen or asterix, but these were converted to np.nan objects when loading the CSV files."
   ]
  },
  {
   "cell_type": "markdown",
   "metadata": {},
   "source": [
    "### 2.1: Clean DFs\n",
    "Time to create a new dictionary with the cleaned dataframes."
   ]
  },
  {
   "cell_type": "code",
   "execution_count": 109,
   "metadata": {
    "code_folding": [
     0,
     8,
     13,
     21
    ]
   },
   "outputs": [],
   "source": [
    "def col_rename(df_in):\n",
    "    new_col_names = ['ccg','people_in_contact','on_cpa']\n",
    "    old_col_names = df_in.columns\n",
    "    num = len(old_col_names)\n",
    "    new_df = df_in.rename(columns={old_col_names[j]:new_col_names[j]\n",
    "                                 for j in range(num)})\n",
    "    return new_df\n",
    "\n",
    "def remove_repeats(df_in):\n",
    "    df_in = df_in.sort_values(by=['people_in_contact','on_cpa'],\n",
    "                              ascending=False)\n",
    "    return df_in.drop_duplicates(['ccg'])\n",
    "\n",
    "def ccg_col_abr(df_in):\n",
    "    new_ccg = (df_in['ccg'].str.split(' ')).str[1:-1]\n",
    "    new_ccg = new_ccg.str.join(' ')\n",
    "    new_ccg = new_ccg.replace('', 'NO CCG')\n",
    "    new_ccg = new_ccg.str.title()\n",
    "    df_in['ccg'] = new_ccg\n",
    "    return df_in\n",
    "\n",
    "def apply_cleaning(df_in):\n",
    "    df_in = col_rename(df_in)    \n",
    "    df_in = df_in.dropna()\n",
    "    \n",
    "    df_in = df_in[~(df_in['ccg']=='All')]\n",
    "    df_in = df_in[~(df_in['ccg']=='No CCG')]\n",
    "    df_in = df_in.reset_index().iloc[:,1:]\n",
    "    df_in = remove_repeats(df_in)\n",
    "    \n",
    "    df_in = df_in[df_in['people_in_contact']>1000]\n",
    "    df_in = ccg_col_abr(df_in)\n",
    "    \n",
    "    return df_in"
   ]
  },
  {
   "cell_type": "code",
   "execution_count": 110,
   "metadata": {},
   "outputs": [],
   "source": [
    "# clean all the sub-frames\n",
    "clean_dfs = {j[:-3]+'cln':apply_cleaning(month_subs[j]) for j in month_subs}"
   ]
  },
  {
   "cell_type": "markdown",
   "metadata": {},
   "source": [
    "### 2.2: DF Matching Check\n",
    "Cleaning done - now to check if the dataframes have matching CCG entries."
   ]
  },
  {
   "cell_type": "code",
   "execution_count": 111,
   "metadata": {
    "code_folding": [
     0
    ]
   },
   "outputs": [],
   "source": [
    "def df_month_matches(cleaned_dfs):\n",
    "    df_matches = {}\n",
    "    for clean_df in cleaned_dfs:\n",
    "        clean_dfs_copy = cleaned_dfs.copy()\n",
    "        df_to_check = clean_dfs_copy[clean_df]\n",
    "        df_overlap = []\n",
    "        del clean_dfs_copy[clean_df]\n",
    "        for other_dfs in clean_dfs_copy:\n",
    "            other_df = clean_dfs_copy[other_dfs]\n",
    "            matches = df_to_check.loc[df_to_check['ccg'].isin(other_df['ccg']),'ccg']\n",
    "            if matches.shape[0] == df_to_check.shape[0]:\n",
    "                df_overlap.append(other_dfs[:-4])\n",
    "        df_matches[clean_df[:-4]] = df_overlap\n",
    "    return df_matches"
   ]
  },
  {
   "cell_type": "code",
   "execution_count": 112,
   "metadata": {},
   "outputs": [],
   "source": [
    "month_matches = df_month_matches(clean_dfs)"
   ]
  },
  {
   "cell_type": "markdown",
   "metadata": {},
   "source": [
    "### 2.3: Data Imputation\n",
    "We observe that all of the DFs have matching CCG entries, except May. May is missing the 'Isle of Wight' CCG: it appears that no data was given for this CCG in May.  \n",
    "In order to keep this CCG in the analysis, let's use data imputation by substituting the average of April and June (each adjacent month)."
   ]
  },
  {
   "cell_type": "code",
   "execution_count": 113,
   "metadata": {
    "code_folding": [
     0
    ]
   },
   "outputs": [],
   "source": [
    "def may_wight_add(clean_df_dict_in):\n",
    "    may_df = clean_df_dict_in['may_cln']\n",
    "    ppl = pd.Series(dtype=int)\n",
    "    cpa = pd.Series(dtype=int)\n",
    "    for month_df in clean_df_dict_in:\n",
    "        if (month_df == 'apr_cln') or (month_df == 'jun_cln'):\n",
    "            dataframe = clean_df_dict_in[month_df]\n",
    "            wight_df = dataframe[dataframe['ccg'] == 'Isle Of Wight']\n",
    "            ppl[month_df] = wight_df['people_in_contact'].iloc[0]\n",
    "            cpa[month_df] = wight_df['on_cpa'].iloc[0]\n",
    "        else:\n",
    "            continue\n",
    "    may_ppl = int(ppl.mean())\n",
    "    may_cpa = int(cpa.mean())\n",
    "    \n",
    "    df_entries = ['Isle Of Wight', may_ppl, may_cpa]\n",
    "    dict_out = {may_df.columns[j]:df_entries[j] for j in range(3)}\n",
    "    df_out_idx = [(may_df.index).max()+1]\n",
    "    df_out = pd.DataFrame(dict_out,index=df_out_idx)\n",
    "    may_df_new = pd.concat([may_df,df_out])\n",
    "    clean_df_dict_in['may_cln'] = may_df_new\n",
    "    return clean_df_dict_in"
   ]
  },
  {
   "cell_type": "code",
   "execution_count": 114,
   "metadata": {},
   "outputs": [],
   "source": [
    "clean_dfs = may_wight_add(clean_dfs)\n",
    "# print(clean_dfs)"
   ]
  },
  {
   "cell_type": "markdown",
   "metadata": {},
   "source": [
    "### 2.4: Review Data Loss\n",
    "Our dataframe cleaning is now complete; let's see how much data we lost by comparing to the total numbers from the original data sets."
   ]
  },
  {
   "cell_type": "code",
   "execution_count": 115,
   "metadata": {
    "code_folding": [
     0,
     5
    ]
   },
   "outputs": [],
   "source": [
    "def pct_lost(df_sub,df_full):\n",
    "    old_tot = int(df_full['People in contact with services'][0])\n",
    "    new_tot = df_sub['people_in_contact'].sum()\n",
    "    return ((old_tot - new_tot)/old_tot)*100\n",
    "\n",
    "def pcts_lost(clean_df_dict):\n",
    "    pcts_lost = {}    \n",
    "    for clean_df in clean_df_dict:\n",
    "        pcts_lost[clean_df[:-4]] = pct_lost(clean_df_dict[clean_df],\n",
    "                                            month_dfs[clean_df[:-3]+'df'])\n",
    "    return pcts_lost"
   ]
  },
  {
   "cell_type": "code",
   "execution_count": 116,
   "metadata": {},
   "outputs": [],
   "source": [
    "pcts_lost = pcts_lost(clean_dfs)\n",
    "# print(pcts_lost)"
   ]
  },
  {
   "cell_type": "markdown",
   "metadata": {},
   "source": [
    "The 'pcts_lost' dictionary shows that only *0.4% of the original data was lost* for each dataframe in our cleaning process. This is mostly due to leaving out CCG units with less than 1,000 patients in contact (20 CCGs).\n",
    "\n",
    "### 2.5: Add Percentage Column\n",
    "The last task is to add a column to each dataframe, stating the percentage of people who got in contact with the services to be assigned to a CPA plan."
   ]
  },
  {
   "cell_type": "code",
   "execution_count": 117,
   "metadata": {
    "code_folding": [
     0
    ]
   },
   "outputs": [],
   "source": [
    "def df_pct_col_sort(df_dict_in):\n",
    "    for clean_df in df_dict_in:\n",
    "        dataframe = df_dict_in[clean_df]\n",
    "        pct_w_cpa = ((dataframe['on_cpa']/\n",
    "                     dataframe['people_in_contact'])*100).round(1)\n",
    "        dataframe['pct_w_cpa'] = pct_w_cpa\n",
    "        dataframe = (dataframe.sort_values('ccg')).reset_index().iloc[:,1:]\n",
    "        \n",
    "        df_dict_in[clean_df] = dataframe\n",
    "    \n",
    "    return df_dict_in"
   ]
  },
  {
   "cell_type": "code",
   "execution_count": 118,
   "metadata": {},
   "outputs": [],
   "source": [
    "clean_dfs = df_pct_col_sort(clean_dfs)"
   ]
  },
  {
   "cell_type": "markdown",
   "metadata": {},
   "source": [
    "## Section 3: Merging Dataframes and Arranging by Region\n",
    "We wish to view the percentage of people admitted to care plans for each region and see the evolution from April to August. This means each month's dataframes and including a 'region' column."
   ]
  },
  {
   "cell_type": "markdown",
   "metadata": {},
   "source": [
    "### 3.1: Recursively Merge Dataframes\n",
    "Merge each month's dataframes into a single DF using function recursion."
   ]
  },
  {
   "cell_type": "code",
   "execution_count": 119,
   "metadata": {
    "code_folding": [
     0
    ]
   },
   "outputs": [],
   "source": [
    "def merger(clean_df_dict):\n",
    "    suffs = ['_'+key[:-4] for key in clean_df_dict]\n",
    "    list_df = [df for df_name, df in clean_df_dict.items()]\n",
    "    \n",
    "    def recursive_merge(df_1,df_2,suff_1,suff_2):\n",
    "        merged = pd.merge(left=df_1,right=df_2,how='left',\n",
    "                      on='ccg',suffixes=(suff_1,suff_2))\n",
    "        return merged\n",
    "    \n",
    "    merged = recursive_merge(list_df[0],list_df[1],suffs[0],suffs[1])\n",
    "    for idx in range(1,len(list_df)-1):\n",
    "        merged = recursive_merge(merged,list_df[idx+1],\n",
    "                                 suffs[idx],suffs[idx+1])\n",
    "    cols_final = merged.columns[-3:]\n",
    "    merged = merged.rename(columns={col:col+'_aug' for col in cols_final })\n",
    "    return merged"
   ]
  },
  {
   "cell_type": "code",
   "execution_count": 120,
   "metadata": {},
   "outputs": [],
   "source": [
    "merged_dfs = merger(clean_dfs)"
   ]
  },
  {
   "cell_type": "markdown",
   "metadata": {},
   "source": [
    "### 3.2: List of Regions\n",
    "The original plan was to scrape Wikipedia to assign each CCG to one of the 9 UK regions. This proved difficult, however, due to the **lack of CCG geographical consistency**: CCGs could be named after cities, towns, counties or combinations of each. This made scraping too complicated and I only ended up scraping the 9 region names. This meant I had to manually input the regions for each CCG - long!"
   ]
  },
  {
   "cell_type": "code",
   "execution_count": 121,
   "metadata": {
    "code_folding": [
     0,
     3,
     19,
     30,
     38,
     46
    ]
   },
   "outputs": [],
   "source": [
    "# Assign Region to each CCG\n",
    "\n",
    "# generate a dictionary with each region name\n",
    "def regions_dict_gen():\n",
    "    regions = {}\n",
    "    html_regions = requests.get('https://en.wikipedia.org/wiki/Regions_of_England').text\n",
    "    regions_soup = BeautifulSoup(html_regions,'html5lib')\n",
    "    \n",
    "    region_table = regions_soup.find('table',{'id':'list'})\n",
    "    table_contents = region_table.find_all('tr')[1:]\n",
    "    for row in table_contents:\n",
    "        region = row.td.text[:-1]\n",
    "        regions[region] = []\n",
    "        if region == 'North East':\n",
    "            break\n",
    "    return regions\n",
    "\n",
    "# put in the dictionary of regions, get out a mapping of each abbreviation to its full region name\n",
    "# (used for quickening my region entries)\n",
    "def region_abbr(region_dict_in):\n",
    "    abbrs = {}\n",
    "    region_dict_in = sorted(region_dict_in)\n",
    "    abbr_l = ['EM','E','L','NE','NW','SE','SW','WM','Y']\n",
    "    c=0\n",
    "    for region_name in region_dict_in:\n",
    "        abbrs[abbr_l[c]] = region_name\n",
    "        c += 1\n",
    "    return abbrs\n",
    "\n",
    "# code for entering the region corresponding to each ccg\n",
    "def region_append(ccg_list):\n",
    "    list_out = []\n",
    "    for ccg in ccg_list:\n",
    "        region_code = input(\"Region code for {}:\\n\".format(ccg))\n",
    "        list_out.append(region_code)\n",
    "    return list_out\n",
    "\n",
    "# takes in the list of abbreviated regions and gives out the full region names\n",
    "def abbr_to_region(abbr_list_in,abbr_dict_in):\n",
    "    full_name_list = []\n",
    "    for abbreviation in abbr_list_in:\n",
    "        region_name = abbr_dict_in[abbreviation]\n",
    "        full_name_list.append(region_name)\n",
    "    return full_name_list\n",
    "\n",
    "# takes the list of abbreviated names and converts them to their full counterparts\n",
    "def generate_region_names():\n",
    "    abr_list = ['Y', 'SE', 'SE', 'L', 'L', 'Y', 'E', 'EM', 'SW', 'E', 'L', 'WM', 'WM', 'NW', 'NW', 'NW', 'SE', 'Y', 'Y', 'L', 'SW', 'SW', 'L', 'NW', 'Y', 'E', 'L', 'WM', 'SE', 'E', 'L', 'NW', 'SE', 'NW', 'L', 'SE', 'EM', 'WM', 'SE', 'L', 'NW', 'NE', 'SE', 'Y', 'SW', 'WM', 'NE', 'L', 'E', 'NW', 'EM', 'Y', 'WM', 'SE', 'SE', 'NW', 'L', 'EM', 'SE', 'NW', 'NE', 'SW', 'E', 'Y', 'NW', 'L', 'SE', 'NW', 'NE', 'L', 'E', 'L', 'Y', 'L', 'NE', 'SE', 'L', 'WM', 'E', 'NW', 'SE', 'L', 'SE', 'L', 'Y', 'E', 'SE', 'L', 'SW', 'L', 'NW', 'L', 'NW', 'Y', 'Y', 'Y', 'EM', 'L', 'EM', 'EM', 'NW', 'E', 'EM', 'SE', 'L', 'E', 'SE', 'E', 'EM', 'SE', 'NE', 'NE', 'L', 'SE', 'EM', 'NE', 'E', 'SE', 'EM', 'SE', 'Y', 'EM', 'NW', 'E', 'SW', 'WM', 'NE', 'SE', 'SW', 'NE', 'E', 'EM', 'EM', 'EM', 'NW', 'SE', 'SW', 'L', 'WM', 'L', 'Y', 'EM', 'NW', 'WM', 'Y', 'Y', 'WM', 'SE', 'WM', 'SW', 'NW', 'SW', 'WM', 'SE', 'SW', 'SE', 'EM', 'NW', 'E', 'SE', 'NW', 'NE', 'NE', 'WM', 'EM', 'WM', 'SW', 'E', 'EM', 'NW', 'L', 'NW', 'WM', 'NW', 'WM', 'NE', 'SE', 'SE', 'E', 'SE', 'SW', 'NW', 'WM', 'SE', 'E', 'L', 'NW', 'Y', 'NW', 'Y', 'WM', 'L', 'L', 'NW', 'WM', 'NW', 'E', 'SE', 'SE', 'NW', 'EM', 'L', 'E', 'E', 'NW', 'SW', 'SE', 'NW', 'SE', 'WM', 'WM']\n",
    "    abbr_dict = region_abbr(regions_dict_gen())\n",
    "    region_names = abbr_to_region(abr_list, abbr_dict)\n",
    "    return region_names"
   ]
  },
  {
   "cell_type": "markdown",
   "metadata": {},
   "source": [
    "### 3.3: Add Regions to DF\n",
    "Generating the region names for each CCG was needlessly long, but it's done. Now to add a 'region' column to the merged dataframes."
   ]
  },
  {
   "cell_type": "code",
   "execution_count": 122,
   "metadata": {},
   "outputs": [],
   "source": [
    "def regions_in_df(df_in):\n",
    "    region_list = generate_region_names()\n",
    "    df_copy = df_in.copy()\n",
    "    region_names_sers = pd.Series(region_list,name='region')\n",
    "    df_copy['region']=region_names_sers\n",
    "    df_reorder = df_copy.reindex(columns=\n",
    "                                [df_copy.columns[0],\n",
    "                                 df_copy.columns[-1]] +\n",
    "                                 list(df_copy.columns[1:-1]))\n",
    "    return df_reorder"
   ]
  },
  {
   "cell_type": "code",
   "execution_count": 123,
   "metadata": {},
   "outputs": [],
   "source": [
    "mh_df = regions_in_df(merged_dfs)"
   ]
  },
  {
   "cell_type": "markdown",
   "metadata": {},
   "source": [
    "## Section 4: Visualising Mental Health Data in Regions\n",
    "This is what it's all been leading to: *a plot for each region of the percentage of people put on mental health care plans for April to August*.  \n",
    "Horizontal bar plots will be given for the percentages in April and August for each CCG.\n",
    "### 4.1: Abbreviating CCGs - Again!\n",
    "Some CCG names are ridiculously long: 'Airedale, Wharfedale And Craven' and 'North East Hampshire And Farnham', to name a few. The first job, therefore, was to get whittle down CCGs to one place name and abbreviate North, East, South and West."
   ]
  },
  {
   "cell_type": "code",
   "execution_count": 124,
   "metadata": {
    "code_folding": [
     0
    ]
   },
   "outputs": [],
   "source": [
    "def name_shorten(ccg_names):    \n",
    "    to_replace = ['East','North','South','West']\n",
    "    ccg_short = ccg_names.copy()\n",
    "    for replacee in to_replace:\n",
    "        replacer = replacee[0] + '.'\n",
    "        ccg_short = ccg_short.str.replace(replacee,replacer)\n",
    "    for ccg_name in ccg_short:\n",
    "        if len(ccg_name) > 15:\n",
    "            words_in_name = ccg_name.split(' ')\n",
    "            name_idx = ccg_short[ccg_short==ccg_name].index[0]\n",
    "            ccg_short.loc[name_idx] = max(words_in_name,key=len)\n",
    "    return ccg_short"
   ]
  },
  {
   "cell_type": "markdown",
   "metadata": {},
   "source": [
    "### 4.2: Plot a Region\n",
    "We can now plot each region. To recap, a horizontal bar plot with 'April' and 'August' values stacked would be used. Thus, tick placements needed to be specified and dataframes grouped by region."
   ]
  },
  {
   "cell_type": "code",
   "execution_count": 146,
   "metadata": {
    "code_folding": [
     1,
     12,
     31
    ]
   },
   "outputs": [],
   "source": [
    "# gives upper and lower bar tick positions for a given height and number of lower-upper bar pairs\n",
    "def ul_bar_tick_positions(bar_height,num_bars):\n",
    "    lower_bar_start = 1.5*bar_height\n",
    "    lower_bar_end = (3*num_bars-1.5)*bar_height\n",
    "    y_ticks_l_bar = np.linspace(lower_bar_start,lower_bar_end,num_bars)\n",
    "    \n",
    "    upper_bar_start = 2.5*bar_height\n",
    "    upper_bar_end = (3*num_bars-0.5)*bar_height\n",
    "    y_ticks_u_bar = np.linspace(upper_bar_start,upper_bar_end,num_bars)\n",
    "    \n",
    "    return y_ticks_l_bar, y_ticks_u_bar\n",
    "\n",
    "def ax_custom_ccgplots(ax,y_pos,y_names,df_to_plot):\n",
    "    reg_name = df_to_plot.iloc[0,1]\n",
    "    if reg_name == 'Yorkshire and the Humber':\n",
    "        reg_name = 'Yorkshire'\n",
    "    ax.set_xlim((0,100))\n",
    "    ax.spines['top'].set_visible(False)\n",
    "    ax.spines['right'].set_visible(False)\n",
    "    ax.spines['left'].set_color('gray')\n",
    "    ax.spines['bottom'].set_color('gray')\n",
    "    ax.set_yticks(y_pos+0.5)\n",
    "    ax.set_yticklabels(y_names)\n",
    "    ax.tick_params(color='gray')\n",
    "    ax.set_title('Percentage of People Placed on CPA Plans'+\n",
    "                 ' \\n in the {} Region'.format(reg_name))\n",
    "    ax.set_xlabel('Percentage on CPA (%)')\n",
    "    ax.yaxis.grid(False)\n",
    "    ax.xaxis.grid(True, color='#EEEEEE',zorder=3,linestyle='dashed')\n",
    "    ax.set_axisbelow(True)\n",
    "\n",
    "def plot_bar_df(df_to_plot):\n",
    "    fig = plt.figure()\n",
    "    ax = fig.add_subplot(1,1,1)\n",
    "    \n",
    "    ccg_apr_aug = df_to_plot.iloc[:,[0,4,16]]\n",
    "    ccg_shortened = name_shorten(ccg_apr_aug.iloc[:,0])\n",
    "    \n",
    "    mths = ['April 2014','August 2014']\n",
    "    month_color = ['#2cbdfe','#b317b1']\n",
    "\n",
    "    (y_ticks_l_bar,y_ticks_u_bar) = ul_bar_tick_positions(\n",
    "        0.5,ccg_apr_aug.shape[0])\n",
    "    \n",
    "    for idx in range(ccg_apr_aug.shape[0]):\n",
    "            row_to_plot = ccg_apr_aug.iloc[idx,[1,2]]\n",
    "            \n",
    "            ax.barh(y=y_ticks_l_bar[idx],width=row_to_plot[0],\n",
    "                    color=month_color[0],height=0.5,\n",
    "                    label=mths[0])\n",
    "            ax.barh(y=y_ticks_u_bar[idx],width=row_to_plot[1],\n",
    "                    color=month_color[1],height=0.5,\n",
    "                    label=mths[1])\n",
    "            \n",
    "            change = row_to_plot[1] - row_to_plot[0]\n",
    "            max_w = max(row_to_plot)\n",
    "            if change >= 0:\n",
    "                ax.text(x=1.05*max_w,y=y_ticks_l_bar[idx],\n",
    "                        s='+{:.1f}%'.format(change))\n",
    "            else:\n",
    "                ax.text(x=1.05*max_w,y=y_ticks_l_bar[idx],\n",
    "                        s='–{:.1f}%'.format(-change))\n",
    "            \n",
    "            if idx == 0:\n",
    "                ax.legend(loc = 'lower right')\n",
    "\n",
    "    ax_custom_ccgplots(ax,y_ticks_l_bar,ccg_shortened,df_to_plot)\n",
    "\n",
    "    plt.show()"
   ]
  },
  {
   "cell_type": "markdown",
   "metadata": {},
   "source": [
    "### 4.3: Plot all Regions\n",
    "We have our function that will plot an individual region. Now to group the dataframes by region and plot each. *But wait!* - some regions have too many CCGs to plot. These (any region with over 19 CCGs) will be halved, with individual plots for each half."
   ]
  },
  {
   "cell_type": "code",
   "execution_count": 126,
   "metadata": {
    "code_folding": [
     0
    ]
   },
   "outputs": [],
   "source": [
    "def df_plotter(region_name, df_in):\n",
    "    sub_df = df_in[df_in['region']==region_name]\n",
    "    sub_df = sub_df.sort_values('pct_w_cpa_apr')\n",
    "    if sub_df.shape[0] > 19:\n",
    "        sub_list = [sub_df.iloc[:(int(sub_df.shape[0]/2)),:],\n",
    "                    sub_df.iloc[(int(sub_df.shape[0]/2)):,:]]\n",
    "        sub_list.reverse()\n",
    "        for sub_sub_df in sub_list:\n",
    "            plot_bar_df(sub_sub_df)\n",
    "    else:\n",
    "        plot_bar_df(sub_df)\n"
   ]
  },
  {
   "cell_type": "code",
   "execution_count": 127,
   "metadata": {
    "scrolled": false
   },
   "outputs": [],
   "source": [
    "# df_plotter('North East',mh_df)"
   ]
  },
  {
   "cell_type": "code",
   "execution_count": 128,
   "metadata": {
    "scrolled": true
   },
   "outputs": [],
   "source": [
    "# df_plotter('North West',mh_df)"
   ]
  },
  {
   "cell_type": "code",
   "execution_count": 129,
   "metadata": {
    "scrolled": true
   },
   "outputs": [],
   "source": [
    "# df_plotter('Yorkshire and the Humber',mh_df)"
   ]
  },
  {
   "cell_type": "code",
   "execution_count": 130,
   "metadata": {},
   "outputs": [],
   "source": [
    "# df_plotter('East Midlands',mh_df)"
   ]
  },
  {
   "cell_type": "code",
   "execution_count": 131,
   "metadata": {},
   "outputs": [],
   "source": [
    "# df_plotter('West Midlands',mh_df)"
   ]
  },
  {
   "cell_type": "code",
   "execution_count": 132,
   "metadata": {},
   "outputs": [],
   "source": [
    "# df_plotter('East of England',mh_df)"
   ]
  },
  {
   "cell_type": "code",
   "execution_count": 133,
   "metadata": {},
   "outputs": [],
   "source": [
    "# df_plotter('London',mh_df)"
   ]
  },
  {
   "cell_type": "code",
   "execution_count": 134,
   "metadata": {},
   "outputs": [],
   "source": [
    "# df_plotter('South East',mh_df)"
   ]
  },
  {
   "cell_type": "code",
   "execution_count": 135,
   "metadata": {
    "scrolled": true
   },
   "outputs": [],
   "source": [
    "# df_plotter('South West',mh_df)"
   ]
  },
  {
   "cell_type": "markdown",
   "metadata": {},
   "source": [
    "## Section 5: Comparing Regions\n",
    "Now let's make a similar bar plot, but with percentages for the average amount of people on CPA *across a whole region*. We will again plot April and August averages, to see the change over time.\n",
    "<br>\n",
    "**Note: For easier comparison, x-axis limits were changed to 0-50%**  "
   ]
  },
  {
   "cell_type": "code",
   "execution_count": 147,
   "metadata": {
    "code_folding": [
     1,
     15,
     33
    ]
   },
   "outputs": [],
   "source": [
    "# chuck in the merged DF and get out average percentages for each region over April and August.\n",
    "def region_apr_aug_pcts(mh_df_in):\n",
    "    region_apr_aug = {}\n",
    "    for region in mh_df_in.groupby('region'):\n",
    "        region_name = region[0]\n",
    "        if region_name == 'Yorkshire and the Humber':\n",
    "            region_name = 'Yorkshire'\n",
    "        region = region[1]\n",
    "        region_pcts = [round(((region.iloc[:,j+1].sum())/\n",
    "                              (region.iloc[:,j].sum()))*100,1)\n",
    "                       for j in [2,14]]\n",
    "        region_apr_aug[region_name]=region_pcts\n",
    "    return region_apr_aug\n",
    "\n",
    "# customise the axes for the plots: same style format as above\n",
    "def ax_custom_regplot(ax,y_tick_pos,y_tick_labs):\n",
    "    ax.set_xlim((0,50))\n",
    "    ax.spines['top'].set_visible(False)\n",
    "    ax.spines['right'].set_visible(False)\n",
    "    ax.spines['left'].set_color('gray')\n",
    "    ax.spines['bottom'].set_color('gray')\n",
    "    ax.set_yticks(y_tick_pos+0.25)\n",
    "    ax.set_yticklabels([y_tick_labs[j][0] for j in range(9)])\n",
    "    ax.tick_params(color='gray')\n",
    "    \n",
    "    ax.set_title('Percentage of Therapy Seekers Assigned \\n to Mental Health'+\n",
    "                 ' Care Plans by Region',pad=15,color='#333333',weight='bold')\n",
    "    ax.set_xlabel('Percentage on CPA (%)')\n",
    "    ax.yaxis.grid(False)\n",
    "    ax.xaxis.grid(True, color='#EEEEEE',zorder=3,linestyle='dashed')\n",
    "    ax.set_axisbelow(True)\n",
    "\n",
    "# plot the muthas!\n",
    "def plot_region_pcts(mh_df_in):\n",
    "    fig = plt.figure()\n",
    "    ax = fig.add_subplot(1,1,1)\n",
    "    colors = ['#2cbdfe','#b317b1']\n",
    "    months = ['April 2014', 'August 2014']\n",
    "    \n",
    "    reg_pcts = region_apr_aug_pcts(mh_df_in)\n",
    "    reg_pcts_sort = sorted(reg_pcts.items(), key=lambda item: (item[1])[1])\n",
    "    \n",
    "    h = 0.5\n",
    "    lower_y_ticks = ul_bar_tick_positions(h, 9)[0]\n",
    "    upper_y_ticks = ul_bar_tick_positions(h, 9)[1]\n",
    "    \n",
    "    for idx in range(9):\n",
    "        change = reg_pcts_sort[idx][1][1] - reg_pcts_sort[idx][1][0]\n",
    "        ax.barh(y=lower_y_ticks[idx],width=reg_pcts_sort[idx][1][0],\n",
    "                height=h,color=colors[0],label=months[0])\n",
    "        ax.barh(y=upper_y_ticks[idx],width=reg_pcts_sort[idx][1][1],\n",
    "                height=h,color=colors[1],label=months[1])\n",
    "        \n",
    "        max_width = max(reg_pcts_sort[idx][1])\n",
    "        if change >= 0:\n",
    "            ax.text(x=1.05*max_width,y=lower_y_ticks[idx],\n",
    "                    s='+{:.1f}%'.format(change))\n",
    "        else:\n",
    "            ax.text(x=1.05*max_width,y=lower_y_ticks[idx],\n",
    "                    s='–{:.1f}%'.format(-change))\n",
    "        \n",
    "        if idx == 0:\n",
    "            ax.legend(loc='center right')\n",
    "    \n",
    "    ax_custom_regplot(ax,lower_y_ticks,reg_pcts_sort)"
   ]
  },
  {
   "cell_type": "code",
   "execution_count": 150,
   "metadata": {},
   "outputs": [],
   "source": [
    "# plot_region_pcts(mh_df)"
   ]
  },
  {
   "cell_type": "markdown",
   "metadata": {},
   "source": [
    "## Section 6: Analysing the Data\n",
    "Above we plotted the percentage of people who were put on mental health care plans after contacting the NHS for support. There is a lot of information to review, so let's break things down.\n",
    "### 6.1: Overview\n",
    "Let's calculate the following for August:\n",
    "1. The average percentage of people seen over all CCGs\n",
    "2. The top 5 CCG units for care provision rates\n",
    "3. The bottom 5 CCG units for care provision rates\n",
    "4. The best region for care provision\n",
    "5. The worst region for care provision"
   ]
  },
  {
   "cell_type": "code",
   "execution_count": 138,
   "metadata": {
    "code_folding": [
     0
    ]
   },
   "outputs": [],
   "source": [
    "def region_pct_avg(mh_df_in):\n",
    "    regions = mh_df.groupby('region')\n",
    "    region_pct_avg = {}\n",
    "    for region in regions:\n",
    "        region = region[1]\n",
    "        region_pct_mean = round((region.iloc[:,-2].sum()/region.iloc[:,-3].sum())*100,2)\n",
    "        region_pct_avg[region.iloc[0,1]] = region_pct_mean\n",
    "    pcts_sort = {region: pct for region, pct in sorted(region_pct_avg.items(), key=lambda item: item[1])}\n",
    "    return pcts_sort"
   ]
  },
  {
   "cell_type": "code",
   "execution_count": 139,
   "metadata": {},
   "outputs": [],
   "source": [
    "overall_pct_avg = round((mh_df.iloc[:,-2].sum()/mh_df.iloc[:,-3].sum())*100,2)\n",
    "bottom_5_ccg = (mh_df.sort_values(['pct_w_cpa_aug'])\n",
    "         .loc[:,['ccg','pct_w_cpa_aug']]).head()\n",
    "top_5_ccg = (mh_df.sort_values(['pct_w_cpa_aug'],ascending=False)\n",
    "         .loc[:,['ccg','pct_w_cpa_aug']]).head()\n",
    "region_pcts = region_pct_avg(mh_df)"
   ]
  },
  {
   "cell_type": "markdown",
   "metadata": {},
   "source": [
    "From analysing the data we draw the following conclusions:\n",
    "1. **Care provision nationally is low** - less than 1 in 4 people who contact the NHS for mental health support get put onto care plans.\n",
    "2. **The best CCG units are radically better** - for the top 5 performing CCGs, around 2 in every 3 people were put onto plans, on average.\n",
    "3. **The worst CCG units are _terrible_** - the worst performing CCGs only provided care for **1 in 20 people**.\n",
    "4. **It's better to be from the East of England** - CCG units in the East admitted almost 1 in 3 people on average.\n",
    "5. **But definitely not the North East** - Whose CCG units provided care for half as many (on avg), with **5 out 6 people not receiving mental health care**.  \n",
    "\n",
    "### 6.2 Care Provision Over Time\n",
    "Let's now look at how the percentage of people admitted to mental health care plans changed from April to August."
   ]
  },
  {
   "cell_type": "code",
   "execution_count": 140,
   "metadata": {
    "code_folding": [
     0,
     10
    ]
   },
   "outputs": [],
   "source": [
    "def apr_aug_compare(df_in):\n",
    "    apr_aug_df = df_in.copy().iloc[:,[0,1,2,3,4,14,15,16]]\n",
    "    apr_aug_df['not_on_cpa_apr'] = (apr_aug_df.copy().iloc[:,2]-\n",
    "                                apr_aug_df.copy().iloc[:,3])\n",
    "    apr_aug_df['not_on_cpa_aug'] = (apr_aug_df.copy().iloc[:,5]-\n",
    "                                apr_aug_df.copy().iloc[:,6])\n",
    "    apr_aug_df['not_on_cpa_change'] = (apr_aug_df.copy().iloc[:,-1]-\n",
    "                                apr_aug_df.copy().iloc[:,-2])\n",
    "    return apr_aug_df\n",
    "\n",
    "def national_change(df_in):\n",
    "    national_change_info = {}\n",
    "    not_on_cpa_net_change = df_in['not_on_cpa_change'].sum()\n",
    "    national_change_info['not_on_cpa_net_change'] = not_on_cpa_net_change\n",
    "\n",
    "    not_on_cpa_pct_apr = ((df_in.iloc[:,2].sum()-df_in.iloc[:,3].sum())/\n",
    "                      df_in.iloc[:,2].sum())*100\n",
    "    not_on_cpa_pct_aug = ((df_in.iloc[:,5].sum()-df_in.iloc[:,6].sum())/\n",
    "                      df_in.iloc[:,5].sum())*100\n",
    "    not_on_cpa_pct_change = not_on_cpa_pct_aug - not_on_cpa_pct_apr\n",
    "    national_change_info['not_on_cpa_pct_aug'] = not_on_cpa_pct_aug\n",
    "    national_change_info['not_on_cpa_pct_apr'] = not_on_cpa_pct_apr\n",
    "    national_change_info['not_on_cpa_pct_change'] = not_on_cpa_pct_change\n",
    "    \n",
    "    return national_change_info\n"
   ]
  },
  {
   "cell_type": "markdown",
   "metadata": {},
   "source": [
    "Above, we have created functions to select only April and August info, look at how care changed overall nationally and then looking at changes in care provision regionally."
   ]
  },
  {
   "cell_type": "code",
   "execution_count": 141,
   "metadata": {},
   "outputs": [],
   "source": [
    "national_info = national_change(apr_aug_compare(mh_df))"
   ]
  },
  {
   "cell_type": "markdown",
   "metadata": {},
   "source": [
    "Nationally, there is overall improvement: **31,000 more people** have been put onto CPA plans from Apr - Aug, corresponding to an **increase of 0.1% in care provision**."
   ]
  },
  {
   "cell_type": "markdown",
   "metadata": {},
   "source": [
    "### 6.3: Regional Comparison\n",
    "Recall the graph comparing regional provision over time:"
   ]
  },
  {
   "cell_type": "code",
   "execution_count": 149,
   "metadata": {},
   "outputs": [
    {
     "data": {
      "image/png": "[encoded data removed]",
      "text/plain": [
       "<Figure size 432x288 with 1 Axes>"
      ]
     },
     "metadata": {
      "needs_background": "light"
     },
     "output_type": "display_data"
    }
   ],
   "source": [
    "plot_region_pcts(mh_df)"
   ]
  },
  {
   "cell_type": "markdown",
   "metadata": {},
   "source": [
    "Overall: Not a great deal of change. **Except** if you're from the North East, where care provision dropped from **5 in 20** people receiving treatment to **3 in 20**."
   ]
  }
 ],
 "metadata": {
  "kernelspec": {
   "display_name": "Python 3",
   "language": "python",
   "name": "python3"
  },
  "language_info": {
   "codemirror_mode": {
    "name": "ipython",
    "version": 3
   },
   "file_extension": ".py",
   "mimetype": "text/x-python",
   "name": "python",
   "nbconvert_exporter": "python",
   "pygments_lexer": "ipython3",
   "version": "3.7.6"
  }
 },
 "nbformat": 4,
 "nbformat_minor": 4
}
